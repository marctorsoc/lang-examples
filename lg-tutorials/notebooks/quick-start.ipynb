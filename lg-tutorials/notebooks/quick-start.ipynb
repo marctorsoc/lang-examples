{
 "cells": [
  {
   "cell_type": "code",
   "execution_count": 1,
   "metadata": {},
   "outputs": [],
   "source": [
    "%load_ext autoreload\n",
    "%autoreload 2"
   ]
  },
  {
   "cell_type": "code",
   "execution_count": 2,
   "metadata": {},
   "outputs": [],
   "source": [
    "from dotenv import load_dotenv\n",
    "from pydantic import BaseModel\n",
    "import logging\n",
    "from lang_examples_common.paths import ENV_PATH\n",
    "from lang_examples_common.utils.llm_utils import get_chat_llm\n",
    "from lang_examples_common.utils.langgraph_utils import plot_langgraph, SimpleState, chatbot_node\n",
    "from lang_examples_common.utils.display_utils import display_foldable, print_wrapped\n",
    "from langchain_community.tools.tavily_search import TavilySearchResults\n",
    "from langchain_core.messages import AIMessage, HumanMessage, SystemMessage, ToolMessage\n",
    "from langfuse.callback import CallbackHandler\n",
    "from langgraph.graph import StateGraph, START, END\n",
    "from langgraph.checkpoint.memory import MemorySaver\n",
    "from langgraph.prebuilt import ToolNode, tools_condition\n"
   ]
  },
  {
   "cell_type": "code",
   "execution_count": 3,
   "metadata": {},
   "outputs": [
    {
     "name": "stderr",
     "output_type": "stream",
     "text": [
      "2024-11-18 18:33:21,544 - Starting ...\n"
     ]
    }
   ],
   "source": [
    "logging.basicConfig(format=\"%(asctime)s - %(message)s\")\n",
    "log = logging.getLogger(\"lang-examples\")\n",
    "log.setLevel(logging.INFO)\n",
    "log.info(\"Starting ...\")"
   ]
  },
  {
   "cell_type": "code",
   "execution_count": 4,
   "metadata": {},
   "outputs": [
    {
     "data": {
      "text/plain": [
       "True"
      ]
     },
     "execution_count": 4,
     "metadata": {},
     "output_type": "execute_result"
    }
   ],
   "source": [
    "load_dotenv(ENV_PATH, override=True)"
   ]
  },
  {
   "cell_type": "code",
   "execution_count": 9,
   "metadata": {},
   "outputs": [],
   "source": [
    "# Initialize Langfuse CallbackHandler for Langchain (tracing)\n",
    "langfuse_handler = CallbackHandler()\n",
    "invoke_config = {\"callbacks\": [langfuse_handler]}"
   ]
  },
  {
   "cell_type": "markdown",
   "metadata": {},
   "source": [
    "## Test ChatOllama"
   ]
  },
  {
   "cell_type": "code",
   "execution_count": 7,
   "metadata": {},
   "outputs": [
    {
     "name": "stdout",
     "output_type": "stream",
     "text": [
      "😎 Me encanta programar.\n"
     ]
    }
   ],
   "source": [
    "llm = get_chat_llm(\n",
    "    # model=\"llama3.2\",\n",
    "    model=\"llama3-groq-tool-use:latest\",\n",
    "    family=\"llama\",\n",
    "    temperature=0.8,\n",
    "    # num_predict = 256,\n",
    "    # other params ...\n",
    ")\n",
    "messages = [\n",
    "    (\n",
    "        \"system\",\n",
    "        \"You are a helpful translator. Translate the user sentence to Spanish. \\\n",
    "     Return just the sentence, nothing else. Surround it with 😎\",\n",
    "    ),\n",
    "    (\"human\", \"I love programming.\"),\n",
    "]\n",
    "response = llm.invoke(messages, config=invoke_config)\n",
    "print(response.content)\n"
   ]
  },
  {
   "cell_type": "markdown",
   "metadata": {},
   "source": [
    "## Part 1: just chat"
   ]
  },
  {
   "cell_type": "code",
   "execution_count": null,
   "metadata": {},
   "outputs": [
    {
     "data": {
      "image/png": "[encoded data removed]",
      "text/plain": [
       "<IPython.core.display.Image object>"
      ]
     },
     "metadata": {},
     "output_type": "display_data"
    }
   ],
   "source": [
    "graph_builder = StateGraph(SimpleState)\n",
    "graph_builder.add_node(\"chatbot\", chatbot_node(llm))\n",
    "graph_builder.add_edge(START, \"chatbot\")\n",
    "graph_builder.add_edge(\"chatbot\", END)\n",
    "graph = graph_builder.compile()\n",
    "plot_langgraph(graph)\n"
   ]
  },
  {
   "cell_type": "code",
   "execution_count": null,
   "metadata": {},
   "outputs": [
    {
     "name": "stdout",
     "output_type": "stream",
     "text": [
      "👨: hello\n",
      "🤖: Hello! How can I assist you today?\n",
      "👨: who are you\n",
      "🤖: I'm an artificial intelligence model known as Llama. Llama stands for \"Large\n",
      "Language Model Meta AI.\"\n",
      "🤖: Goodbye!\n"
     ]
    }
   ],
   "source": [
    "def stream_graph_updates(user_input: str):\n",
    "    # this is for streaming. But llama does not support streaming yet.\n",
    "\n",
    "    for event in graph.stream({\"messages\": [(\"user\", user_input)]}):\n",
    "        for value in event.values():\n",
    "            print(\"Assistant:\", value[\"messages\"][-1].content)\n",
    "\n",
    "\n",
    "def run_graph(user_input: str):\n",
    "    state = graph.invoke(\n",
    "        # we can add a system message here if we want\n",
    "        input={\"messages\": [(\"user\", user_input)]},\n",
    "        config=invoke_config,\n",
    "    )\n",
    "    last_message = state[\"messages\"][-1]\n",
    "    # display_foldable(\n",
    "    #     last_message.to_json(),\n",
    "    #     \"response\",\n",
    "    #     render_nested=True,\n",
    "    #     show_open=True,\n",
    "    #     max_level_tables=1,\n",
    "    # )\n",
    "    print_wrapped(\"👨: \" + state[\"messages\"][-2].content)\n",
    "    print_wrapped(\"🤖: \" + last_message.content)\n",
    "\n",
    "\n",
    "while True:\n",
    "    user_input = input(\"User: \")\n",
    "    if user_input.lower() in [\"quit\", \"exit\", \"q\"]:\n",
    "        print(\"🤖: Goodbye!\")\n",
    "        break\n",
    "\n",
    "    # stream_graph_updates(user_input)\n",
    "    run_graph(user_input)\n"
   ]
  },
  {
   "cell_type": "markdown",
   "metadata": {},
   "source": [
    "## Part 2: using tools"
   ]
  },
  {
   "cell_type": "code",
   "execution_count": null,
   "metadata": {},
   "outputs": [],
   "source": [
    "def make_graph(model, temperature=0):\n",
    "    tool = TavilySearchResults(max_results=2)\n",
    "    tools = [tool]\n",
    "\n",
    "    match model:\n",
    "        case \"llama3.2\":\n",
    "            get_chat_llm_kwargs = dict(model=\"llama3.2\", family=\"llama\")\n",
    "        case \"llama3-groq-tool-use:latest\":\n",
    "            get_chat_llm_kwargs = dict(model=\"llama3-groq-tool-use:latest\", family=\"llama\")\n",
    "        case \"gpt-4o-mini\":\n",
    "            get_chat_llm_kwargs = dict(model=\"gpt-4o-mini\", family=\"openai\")\n",
    "\n",
    "    llm = get_chat_llm(**get_chat_llm_kwargs, temperature=temperature)\n",
    "    llm_with_tools = llm.bind_tools(tools)\n",
    "\n",
    "    graph_builder = StateGraph(SimpleState)\n",
    "    graph_builder.set_entry_point(\"chatbot\")  # equivalent to add_edge(START, \"chatbot\")\n",
    "    chatbot_node_with_system_message = chatbot_node(llm=llm_with_tools)\n",
    "    graph_builder.add_node(\"chatbot\", chatbot_node_with_system_message)\n",
    "\n",
    "\n",
    "    tool_node = ToolNode(tools=tools)\n",
    "    graph_builder.add_node(\"tools\", tool_node)\n",
    "\n",
    "    # `tools_condition` will route to \"tools\" if tool calls are present and END if not.\n",
    "    # that's why the node above has to be called literally \"tools\"\n",
    "    graph_builder.add_conditional_edges(\n",
    "        \"chatbot\",\n",
    "        tools_condition,\n",
    "        # here we could add a dictionary to map the output of the second arg, to use different names\n",
    "        # that the defaults \"tools\" and \"__end__\"\n",
    "    )\n",
    "    # Any time a tool is called, we return to the chatbot to decide the next step\n",
    "    graph_builder.add_edge(\"tools\", \"chatbot\")\n",
    "    graph = graph_builder.compile()\n",
    "    plot_langgraph(graph)\n",
    "    return graph\n"
   ]
  },
  {
   "cell_type": "markdown",
   "metadata": {},
   "source": [
    "## Llama"
   ]
  },
  {
   "cell_type": "code",
   "execution_count": 172,
   "metadata": {},
   "outputs": [
    {
     "data": {
      "image/png": "[encoded data removed]",
      "text/plain": [
       "<IPython.core.display.Image object>"
      ]
     },
     "metadata": {},
     "output_type": "display_data"
    }
   ],
   "source": [
    "llama_graph = make_graph(\"llama3-groq-tool-use:latest\")"
   ]
  },
  {
   "cell_type": "code",
   "execution_count": null,
   "metadata": {},
   "outputs": [
    {
     "name": "stdout",
     "output_type": "stream",
     "text": [
      "**********START OF RUN**********\n",
      "================================\u001b[1m System Message \u001b[0m================================\n",
      "\n",
      "You are an AI assistant that answers to the user.                         Today is Nov 15th, 2024. If the user asks for something in the future,                         you cannot return a date in the past.                 If you don't know the answer to a question, please use the tools available.                 Use the tools as many times as you need to give a correct answer to the user,                 but only if they are needed.                 Also, please surround all your messages with the emoji 😎\n",
      "================================\u001b[1m Human Message \u001b[0m=================================\n",
      "\n",
      "Hello\n",
      "==================================\u001b[1m Ai Message \u001b[0m==================================\n",
      "\n",
      "😎Hi, how can I help you?😎\n",
      "================================\u001b[1m Human Message \u001b[0m=================================\n",
      "\n",
      "how many goals has scored Messi this year?\n",
      "==================================\u001b[1m Ai Message \u001b[0m==================================\n",
      "Tool Calls:\n",
      "  tavily_search_results_json (1)\n",
      " Call ID: 1\n",
      "  Args:\n",
      "    query: Messi goals scored 2024\n",
      "=================================\u001b[1m Tool Message \u001b[0m=================================\n",
      "\n",
      "[\n",
      "                {\n",
      "                    \"url\": \"https://www.sportingnews.com/us/soccer/news/lionel-messi-stats-2022-2023-psg-goals-assists/glydngd6tckmxxrmfpnvbjiu\",\n",
      "                    \"content\": \"Inter Miami goals, assists and more for Argentina star in MLS and internationals\n",
      "Lionel Messi goals 2022/23\n",
      "Messi only scored 11 goals in 34 overall appearances during the 2021/22 season, but he managed to up that to 21 tallies across 41 matches across all competitions this season.\",\n",
      "                },\n",
      "                {\n",
      "                    \"url\": \"https://www.sportingnews.com/us/soccer/news/how-many-goals-messi-scored-career-total-record-vs-ronaldo/nim5eouauuulmyilzwwx51ze\",\n",
      "                    \"content\": \"MORE: Messi's Miami apartment | Messi's wife & family | Messi's net worth\n",
      "How many goals Messi scored\n",
      "After a low key first campaign in Paris in 2021/22, Messi returned to form with PSG in 2022/23 and picked up a World Cup along the way in Qatar. Inter Miami beginner's guide\",\n",
      "                },\n",
      "            ]\n",
      "==================================\u001b[1m Ai Message \u001b[0m==================================\n",
      "\n",
      "😎 Lionel Messi has scored a total of 21 goals across all competitions in the 2022/23 season.😎\n",
      "================================\u001b[1m Human Message \u001b[0m=================================\n",
      "\n",
      "is javascript and java the same thing?\n",
      "==================================\u001b[1m Ai Message \u001b[0m==================================\n",
      "Tool Calls:\n",
      "  tavily_search_results_json (9dfe2e98-c5d2-427c-be2a-4d148042fa29)\n",
      " Call ID: 9dfe2e98-c5d2-427c-be2a-4d148042fa29\n",
      "  Args:\n",
      "    query: javascript vs java\n",
      "=================================\u001b[1m Tool Message \u001b[0m=================================\n",
      "Name: tavily_search_results_json\n",
      "\n",
      "[{\"url\": \"https://log4javascript.org/javascript-vs-java-key-differences/\", \"content\": \"Learn how Javascript and Java differ in origin, purpose, type, usage, syntax, and typing system. Javascript is not the same as Java, despite their similar names.\"}, {\"url\": \"https://www.coursera.org/articles/java-vs-javascript\", \"content\": \"Learn the key differences, features, uses, advantages, and disadvantages of Java and JavaScript, two popular programming languages. Java is a compiled, platform-independent, and secure language, while JavaScript is an interpreted, web-based, and versatile language.\"}]\n",
      "==================================\u001b[1m Ai Message \u001b[0m==================================\n",
      "\n",
      "😎 No, JavaScript and Java are not the same thing. JavaScript is a scripting language used for client-side manipulation of web pages, whereas Java is a statically typed, object-oriented programming language primarily used for developing large-scale applications. They share a similar name but have distinct origins, purposes, types, usage, syntax, and typing systems.😎\n",
      "**********END OF RUN**********\n",
      "🤖: Goodbye!\n"
     ]
    }
   ],
   "source": [
    "# llama - even with few shot examples, tends to always use the tools\n",
    "def run_graph(user_input: str):\n",
    "    examples = [\n",
    "        HumanMessage(\"Hello\"),\n",
    "        AIMessage(\"😎Hi, how can I help you?😎\"),\n",
    "        HumanMessage(\"how many goals has scored Messi this year?\"),\n",
    "        AIMessage(\n",
    "            \"\",\n",
    "            tool_calls=[\n",
    "                {\n",
    "                    \"name\": \"tavily_search_results_json\",\n",
    "                    \"args\": {\"query\": \"Messi goals scored 2024\"},\n",
    "                    \"id\": \"1\",\n",
    "                }\n",
    "            ],\n",
    "        ),\n",
    "        ToolMessage(\n",
    "            content=\"\"\"[\n",
    "                {\n",
    "                    \"url\": \"https://www.sportingnews.com/us/soccer/news/lionel-messi-stats-2022-2023-psg-goals-assists/glydngd6tckmxxrmfpnvbjiu\",\n",
    "                    \"content\": \"Inter Miami goals, assists and more for Argentina star in MLS and internationals\\nLionel Messi goals 2022/23\\nMessi only scored 11 goals in 34 overall appearances during the 2021/22 season, but he managed to up that to 21 tallies across 41 matches across all competitions this season.\",\n",
    "                },\n",
    "                {\n",
    "                    \"url\": \"https://www.sportingnews.com/us/soccer/news/how-many-goals-messi-scored-career-total-record-vs-ronaldo/nim5eouauuulmyilzwwx51ze\",\n",
    "                    \"content\": \"MORE: Messi's Miami apartment | Messi's wife & family | Messi's net worth\\nHow many goals Messi scored\\nAfter a low key first campaign in Paris in 2021/22, Messi returned to form with PSG in 2022/23 and picked up a World Cup along the way in Qatar. Inter Miami beginner's guide\",\n",
    "                },\n",
    "            ]\"\"\",\n",
    "            tool_call_id=\"1\",\n",
    "        ),\n",
    "        AIMessage(\n",
    "            \"😎 Lionel Messi has scored a total of 21 goals across all competitions in the 2022/23 season.😎\"\n",
    "        ),\n",
    "    ]\n",
    "    state = llama_graph.invoke(\n",
    "        input={\n",
    "            \"messages\": [\n",
    "            #     SystemMessage(\n",
    "            #         content=\"You are an AI assistant that answers to the user. \\\n",
    "            # You have tools but please use them only when needed. \\\n",
    "            # Also, please surround all your messages with the emoji 😎\",\n",
    "            #     ),\n",
    "                    SystemMessage(\n",
    "                        content=\"You are an AI assistant that answers to the user. \\\n",
    "                        Today is Nov 15th, 2024. If the user asks for something in the future, \\\n",
    "                        you cannot return a date in the past. \\\n",
    "                If you don't know the answer to a question, please use the tools available. \\\n",
    "                Use the tools as many times as you need to give a correct answer to the user, \\\n",
    "                but only if they are needed. \\\n",
    "                Also, please surround all your messages with the emoji 😎\",\n",
    "                    ),\n",
    "                    *examples,\n",
    "                HumanMessage(content=user_input),\n",
    "            ]\n",
    "        },\n",
    "        config={\"callbacks\": [langfuse_handler]},\n",
    "    )\n",
    "    return state\n",
    "\n",
    "\n",
    "while True:\n",
    "    user_input = input(\"User: \")\n",
    "    if user_input.lower() in [\"quit\", \"exit\", \"q\"]:\n",
    "        print(\"🤖: Goodbye!\")\n",
    "        break\n",
    "\n",
    "    state = run_graph(user_input)\n",
    "    print(\"*\" * 10 + \"START OF RUN\" + \"*\" * 10)\n",
    "    for message in state[\"messages\"]:\n",
    "        message.pretty_print()\n",
    "\n",
    "    print(\"*\" * 10 + \"END OF RUN\" + \"*\" * 10)\n"
   ]
  },
  {
   "cell_type": "markdown",
   "metadata": {},
   "source": [
    "## openAI"
   ]
  },
  {
   "cell_type": "code",
   "execution_count": 173,
   "metadata": {},
   "outputs": [
    {
     "data": {
      "image/png": "[encoded data removed]",
      "text/plain": [
       "<IPython.core.display.Image object>"
      ]
     },
     "metadata": {},
     "output_type": "display_data"
    }
   ],
   "source": [
    "gpt_graph = make_graph(\"gpt-4o-mini\")"
   ]
  },
  {
   "cell_type": "code",
   "execution_count": null,
   "metadata": {},
   "outputs": [
    {
     "name": "stdout",
     "output_type": "stream",
     "text": [
      "================================\u001b[1m System Message \u001b[0m================================\n",
      "\n",
      "You are an AI assistant that answers to the user.                     Today is Nov 15th, 2024. If the user asks for something in the future,                         you cannot return a date in the past.             Please use the tools available if needed to answer the user's question.             Also, please surround all your messages with the emoji 😎\n",
      "================================\u001b[1m Human Message \u001b[0m=================================\n",
      "\n",
      "when is the next match of Barcelona? can you search for it?\n",
      "==================================\u001b[1m Ai Message \u001b[0m==================================\n",
      "Tool Calls:\n",
      "  tavily_search_results_json (call_5hKWE5nE2fndi3P8bAykkIV0)\n",
      " Call ID: call_5hKWE5nE2fndi3P8bAykkIV0\n",
      "  Args:\n",
      "    query: next match of Barcelona November 2024\n",
      "=================================\u001b[1m Tool Message \u001b[0m=================================\n",
      "Name: tavily_search_results_json\n",
      "\n",
      "[{\"url\": \"https://en.as.com/soccer/barcelonas-complete-fixtures-list-for-2024-25-full-calendar-all-matchdays-and-dates-el-clasico-catalan-derby-n/\", \"content\": \"Barcelona involved in four competitions next season. ... October 26-27, Real Madrid-Barcelona; November. Matchday 12: November 2-3, ... Barcelona's 2024-25 calendar in other competitions.\"}, {\"url\": \"https://www.espn.com/soccer/team/fixtures/_/id/83/esp.barcelona\", \"content\": \"ESPN has the full 2024-25 Barcelona schedule. Includes date, time and tv channel information for all Barcelona games. ... November, 2024. DATE MATCH TIME COMPETITION TV; Sat, Nov 23. Celta Vigo. v\"}]\n",
      "==================================\u001b[1m Ai Message \u001b[0m==================================\n",
      "\n",
      "😎 The next match for Barcelona is on **November 23, 2024**, against Celta Vigo. You can find more details about their schedule [here](https://www.espn.com/soccer/team/fixtures/_/id/83/esp.barcelona). 😎\n",
      "🤖: Goodbye!\n"
     ]
    }
   ],
   "source": [
    "# openai\n",
    "def run_graph(user_input: str):\n",
    "    state = gpt_graph.invoke(\n",
    "        input={\n",
    "            \"messages\": [\n",
    "                SystemMessage(\n",
    "                    content=\"You are an AI assistant that answers to the user. \\\n",
    "                    Today is Nov 15th, 2024. If the user asks for something in the future, \\\n",
    "                        you cannot return a date in the past. \\\n",
    "            Please use the tools available if needed to answer the user's question. \\\n",
    "            Also, please surround all your messages with the emoji 😎\",\n",
    "                ),\n",
    "                HumanMessage(content=user_input),\n",
    "            ]\n",
    "        },\n",
    "        config={\"callbacks\": [langfuse_handler]},\n",
    "    )\n",
    "    return state\n",
    "\n",
    "\n",
    "while True:\n",
    "    user_input = input(\"User: \")\n",
    "    if user_input.lower() in [\"quit\", \"exit\", \"q\"]:\n",
    "        print(\"🤖: Goodbye!\")\n",
    "        break\n",
    "\n",
    "    state = run_graph(user_input)\n",
    "    for message in state[\"messages\"]:\n",
    "        message.pretty_print()\n"
   ]
  },
  {
   "cell_type": "markdown",
   "metadata": {},
   "source": [
    "# Part 3"
   ]
  },
  {
   "cell_type": "markdown",
   "metadata": {},
   "source": [
    "Create a memory and add at compile time. Then, we can use later to retrieve state."
   ]
  },
  {
   "cell_type": "code",
   "execution_count": null,
   "metadata": {},
   "outputs": [
    {
     "data": {
      "image/png": "[encoded data removed]",
      "text/plain": [
       "<IPython.core.display.Image object>"
      ]
     },
     "metadata": {},
     "output_type": "display_data"
    }
   ],
   "source": [
    "# same as part 2, except for the memory creation and the compile line to use it\n",
    "\n",
    "# re-running this, resets memory!\n",
    "memory = MemorySaver()\n",
    "\n",
    "\n",
    "def make_graph_part3(model=\"llama3-groq-tool-use:latest\", family=\"llama\"):\n",
    "    tool = TavilySearchResults(max_results=2)\n",
    "    tools = [tool]\n",
    "\n",
    "    llm = get_chat_llm(model=model, family=family)\n",
    "    llm_with_tools = llm.bind_tools(tools)\n",
    "\n",
    "    graph_builder = StateGraph(SimpleState)\n",
    "    graph_builder.set_entry_point(\"chatbot\")  # equivalent to add_edge(START, \"chatbot\")\n",
    "    graph_builder.add_node(\"chatbot\", chatbot_node(llm_with_tools))\n",
    "\n",
    "    tool_node = ToolNode(tools=tools)\n",
    "    graph_builder.add_node(\"tools\", tool_node)\n",
    "\n",
    "    # `tools_condition` will route to \"tools\" if tool calls are present and END if not.\n",
    "    # that's why the node above has to be called literally \"tools\"\n",
    "    graph_builder.add_conditional_edges(\n",
    "        \"chatbot\",\n",
    "        tools_condition,\n",
    "        # here we could add a dictionary to map the output of the second arg to different names\n",
    "    )\n",
    "    # Any time a tool is called, we return to the chatbot to decide the next step\n",
    "    graph_builder.add_edge(\"tools\", \"chatbot\")\n",
    "    graph = graph_builder.compile(checkpointer=memory)\n",
    "    plot_langgraph(graph)\n",
    "    return graph\n",
    "\n",
    "\n",
    "graph = make_graph_part3()\n"
   ]
  },
  {
   "cell_type": "code",
   "execution_count": 177,
   "metadata": {},
   "outputs": [
    {
     "name": "stdout",
     "output_type": "stream",
     "text": [
      "👨: hi, my name is Marc\n",
      "🤖: Hi Marc! How can I assist you today?\n",
      "👨: do you know my name?\n",
      "🤖: Yes, you mentioned that your name is Marc. How can I help you today?\n",
      "🤖: Goodbye!\n"
     ]
    }
   ],
   "source": [
    "def run_graph(user_input: str):\n",
    "    state = graph.invoke(\n",
    "        input={\"messages\": [(\"user\", user_input)]},\n",
    "        config={\n",
    "            \"callbacks\": [langfuse_handler],\n",
    "            \"configurable\": {\"thread_id\": \"1\"},\n",
    "        },\n",
    "    )\n",
    "    last_message = state[\"messages\"][-1]\n",
    "    for message in reversed(state[\"messages\"]):\n",
    "        if isinstance(message, HumanMessage):\n",
    "            print_wrapped(\"👨: \" + message.content)\n",
    "            break\n",
    "    print_wrapped(\"🤖: \" + last_message.content)\n",
    "    return state\n",
    "\n",
    "\n",
    "while True:\n",
    "    user_input = input(\"User: \")\n",
    "    if user_input.lower() in [\"quit\", \"exit\", \"q\"]:\n",
    "        print(\"🤖: Goodbye!\")\n",
    "        break\n",
    "\n",
    "    # stream_graph_updates(user_input)\n",
    "    state = run_graph(user_input)\n"
   ]
  },
  {
   "cell_type": "code",
   "execution_count": 178,
   "metadata": {},
   "outputs": [
    {
     "name": "stdout",
     "output_type": "stream",
     "text": [
      "👨: hi, my name is Marc\n",
      "🤖: Hi Marc! How can I assist you today?\n",
      "👨: do you know my name?\n",
      "🤖: Yes, you mentioned that your name is Marc. How can I help you today?\n"
     ]
    }
   ],
   "source": [
    "for message in graph.get_state({\"configurable\": {\"thread_id\": \"1\"}}).values[\"messages\"]:\n",
    "    emoji = \"👨\" if isinstance(message, HumanMessage) else \"🤖\"\n",
    "    print(f\"{emoji}: {message.content}\")"
   ]
  },
  {
   "cell_type": "markdown",
   "metadata": {},
   "source": [
    "# Part 4: Human in the loop"
   ]
  },
  {
   "cell_type": "code",
   "execution_count": null,
   "metadata": {},
   "outputs": [],
   "source": [
    "# same as part 3, but with \"interrupt_before\" in compile\n",
    "\n",
    "def make_graph_part4(model=\"llama3-groq-tool-use:latest\", family=\"llama\"):\n",
    "    tool = TavilySearchResults(max_results=2)\n",
    "    tools = [tool]\n",
    "\n",
    "    llm = get_chat_llm(model=model, family=family)\n",
    "    llm_with_tools = llm.bind_tools(tools)\n",
    "\n",
    "    graph_builder = StateGraph(SimpleState)\n",
    "    graph_builder.set_entry_point(\"chatbot\")  # equivalent to add_edge(START, \"chatbot\")\n",
    "    graph_builder.add_node(\"chatbot\", chatbot_node(llm_with_tools))\n",
    "\n",
    "\n",
    "    tool_node = ToolNode(tools=tools)\n",
    "    graph_builder.add_node(\"tools\", tool_node)\n",
    "\n",
    "    # `tools_condition` will route to \"tools\" if tool calls are present and END if not.\n",
    "    # that's why the node above has to be called literally \"tools\"\n",
    "    graph_builder.add_conditional_edges(\n",
    "        \"chatbot\",\n",
    "        tools_condition,\n",
    "        # here we could add a dictionary to map the output of the second arg to different names\n",
    "    )\n",
    "    # Any time a tool is called, we return to the chatbot to decide the next step\n",
    "    graph_builder.add_edge(\"tools\", \"chatbot\")\n",
    "    graph = graph_builder.compile(\n",
    "        checkpointer=MemorySaver(),\n",
    "        interrupt_before=[\"tools\"],\n",
    "    )\n",
    "    plot_langgraph(graph)\n",
    "    return graph\n"
   ]
  },
  {
   "cell_type": "code",
   "execution_count": 195,
   "metadata": {},
   "outputs": [
    {
     "data": {
      "image/png": "[encoded data removed]",
      "text/plain": [
       "<IPython.core.display.Image object>"
      ]
     },
     "metadata": {},
     "output_type": "display_data"
    },
    {
     "name": "stdout",
     "output_type": "stream",
     "text": [
      "================================\u001b[1m System Message \u001b[0m================================\n",
      "\n",
      "You are a helpful assistant. Please use the tools available to answer to the user\n",
      "================================\u001b[1m Human Message \u001b[0m=================================\n",
      "\n",
      "Is LangGraph available for javascript? Please search about it\n",
      "==================================\u001b[1m Ai Message \u001b[0m==================================\n",
      "Tool Calls:\n",
      "  tavily_search_results_json (75a344bf-4276-4f54-8351-21865fea715c)\n",
      " Call ID: 75a344bf-4276-4f54-8351-21865fea715c\n",
      "  Args:\n",
      "    query: LangGraph available for javascript\n"
     ]
    }
   ],
   "source": [
    "graph = make_graph_part4()\n",
    "user_input = \"Is LangGraph available for javascript? Please search about it\"\n",
    "# user_input = \"What tools do you have available?\"\n",
    "config = {\"configurable\": {\"thread_id\": \"1\"}}\n",
    "# The config is the **second positional argument** to stream() or invoke()!\n",
    "state = graph.invoke(\n",
    "    {\n",
    "        \"messages\": [\n",
    "            (\n",
    "                \"system\",\n",
    "                \"You are a helpful assistant. Please use the tools available to answer to the user\",\n",
    "            ),\n",
    "            (\"user\", user_input),\n",
    "        ]\n",
    "    },\n",
    "    config,\n",
    ")\n",
    "for message in state[\"messages\"]:\n",
    "    message.pretty_print()\n"
   ]
  },
  {
   "cell_type": "code",
   "execution_count": 189,
   "metadata": {},
   "outputs": [
    {
     "data": {
      "text/plain": [
       "('tools',)"
      ]
     },
     "execution_count": 189,
     "metadata": {},
     "output_type": "execute_result"
    }
   ],
   "source": [
    "snapshot = graph.get_state(config)\n",
    "# this would tell you what's the next stage to execute (where it was interrupted)\n",
    "snapshot.next"
   ]
  },
  {
   "cell_type": "code",
   "execution_count": 190,
   "metadata": {},
   "outputs": [
    {
     "name": "stdout",
     "output_type": "stream",
     "text": [
      "================================\u001b[1m System Message \u001b[0m================================\n",
      "\n",
      "You are a helpful assistant. Please use the tools available to answer to the user\n",
      "================================\u001b[1m Human Message \u001b[0m=================================\n",
      "\n",
      "Is LangGraph available for javascript? Please search about it\n",
      "==================================\u001b[1m Ai Message \u001b[0m==================================\n",
      "Tool Calls:\n",
      "  tavily_search_results_json (1fcad505-70c2-474f-96f8-0e9c260a2bf7)\n",
      " Call ID: 1fcad505-70c2-474f-96f8-0e9c260a2bf7\n",
      "  Args:\n",
      "    query: LangGraph available for javascript\n",
      "=================================\u001b[1m Tool Message \u001b[0m=================================\n",
      "Name: tavily_search_results_json\n",
      "\n",
      "[{\"url\": \"https://blog.langchain.dev/javascript-langgraph-v02-cloud-studio/\", \"content\": \"Build reliable agents in JavaScript with LangGraph.js v0.2: Now supporting Cloud and Studio For JavaScript developers - LangGraph v0.2, LangGraph Cloud, and LangGraph Studio are all available. Today, we’re launching LangGraph.js v0.2.0, our JavaScript/TypeScript framework for building LLM-powered agents. We’re also introducing beta support for LangGraph.js projects in LangGraph Studio, our agent IDE for desktop, and LangGraph Cloud, our scalable infrastructure for deploying agents.. LangGraph.js provides JavaScript developers with a powerful toolkit for addressing these complexities and creating delightful experiences around agents. Once you've perfected your LangGraph.js graphs locally, you can deploy them in one-click on LangGraph Cloud. This is just the beginning - we’re committed to making LangGraph.js the most delightful way to build agents in JavaScript in the long run.\"}, {\"url\": \"https://github.com/langchain-ai/langgraphjs\", \"content\": \"LangGraph.js is a library for building stateful, multi-actor applications with LLMs, used to create agent and multi-agent workflows. Compared to other LLM frameworks, it offers these core benefits: cycles, controllability, and persistence. LangGraph allows you to define flows that involve cycles, essential for most agentic architectures, differentiating it from DAG-based solutions.\"}]\n",
      "==================================\u001b[1m Ai Message \u001b[0m==================================\n",
      "\n",
      "Yes, LangGraph is available for JavaScript. It's a library for building stateful, multi-actor applications with Large Language Models (LLMs). You can find more information about it on the official GitHub page or through this blog post that discusses its features and capabilities in detail.\n"
     ]
    }
   ],
   "source": [
    "# `None` will leave the state as is, letting it resume as if it had never been interrupted\n",
    "state = graph.invoke(None, config)\n",
    "for message in state[\"messages\"]:\n",
    "    message.pretty_print()\n"
   ]
  },
  {
   "cell_type": "markdown",
   "metadata": {},
   "source": [
    "# Part 5: Manually updating the state\n",
    "\n",
    "Simply use `update_state` as below. And to overwrite messages add a message with the same `id` as the one you want to overwrite."
   ]
  },
  {
   "cell_type": "code",
   "execution_count": null,
   "metadata": {},
   "outputs": [
    {
     "data": {
      "image/png": "[encoded data removed]",
      "text/plain": [
       "<IPython.core.display.Image object>"
      ]
     },
     "metadata": {},
     "output_type": "display_data"
    },
    {
     "name": "stdout",
     "output_type": "stream",
     "text": [
      "================================\u001b[1m System Message \u001b[0m================================\n",
      "\n",
      "You are a helpful assistant. Please use the tools available to answer to the user\n",
      "================================\u001b[1m Human Message \u001b[0m=================================\n",
      "\n",
      "Is LangGraph available for javascript? Please search about it\n",
      "==================================\u001b[1m Ai Message \u001b[0m==================================\n",
      "Tool Calls:\n",
      "  tavily_search_results_json (call_exLsnozYsORKZEjFZDBeoxCw)\n",
      " Call ID: call_exLsnozYsORKZEjFZDBeoxCw\n",
      "  Args:\n",
      "    query: LangGraph JavaScript availability\n"
     ]
    }
   ],
   "source": [
    "graph = make_graph_part4(model=\"gpt-4o-mini\", family=\"openai\")\n",
    "user_input = \"Is LangGraph available for javascript? Please search about it\"\n",
    "# user_input = \"What tools do you have available?\"\n",
    "config = {\"configurable\": {\"thread_id\": \"1\"}}\n",
    "# The config is the **second positional argument** to stream() or invoke()!\n",
    "state = graph.invoke(\n",
    "    {\n",
    "        \"messages\": [\n",
    "            (\n",
    "                \"system\",\n",
    "                \"You are a helpful assistant. Please use the tools available to answer to the user\",\n",
    "            ),\n",
    "            (\"user\", user_input),\n",
    "        ]\n",
    "    },\n",
    "    config,\n",
    ")\n",
    "for message in state[\"messages\"]:\n",
    "    message.pretty_print()\n"
   ]
  },
  {
   "cell_type": "code",
   "execution_count": 223,
   "metadata": {},
   "outputs": [
    {
     "name": "stdout",
     "output_type": "stream",
     "text": [
      "Next calls: ('tools',)\n",
      "==================================\u001b[1m Ai Message \u001b[0m==================================\n",
      "Tool Calls:\n",
      "  tavily_search_results_json (call_exLsnozYsORKZEjFZDBeoxCw)\n",
      " Call ID: call_exLsnozYsORKZEjFZDBeoxCw\n",
      "  Args:\n",
      "    query: LangGraph JavaScript availability\n"
     ]
    }
   ],
   "source": [
    "# the last message was the one to call the tool\n",
    "snapshot = graph.get_state(config)\n",
    "print(f\"Next calls: {snapshot.next}\")\n",
    "existing_message = snapshot.values[\"messages\"][-1]\n",
    "existing_message.pretty_print()"
   ]
  },
  {
   "cell_type": "code",
   "execution_count": null,
   "metadata": {},
   "outputs": [
    {
     "data": {
      "text/plain": [
       "{'configurable': {'thread_id': '1',\n",
       "  'checkpoint_ns': '',\n",
       "  'checkpoint_id': '1efa34a6-edda-691c-8002-8c741c09c493'}}"
      ]
     },
     "execution_count": 224,
     "metadata": {},
     "output_type": "execute_result"
    }
   ],
   "source": [
    "# now we want to hardcode the tool answer. In contrast to the tutorial, we won't\n",
    "# add the AI message (put words in the LLM's mouth. So we ask the LLM to generate\n",
    "# an answer from the tool answer we hardcode)\n",
    "from langchain_core.messages import AIMessage, ToolMessage\n",
    "\n",
    "answer = (\n",
    "    # this one to hardcode the real answer\n",
    "    # \"\"\"[{\"url\": \"https://random.dev/\", \"content\": \"Build reliable agents in JavaScript with LangGraph.js v0.2: Now supporting Cloud and Studio For JavaScript developers - LangGraph v0.2, LangGraph Cloud, and LangGraph Studio are all available. Today, we’re launching LangGraph.js v0.2.0, our JavaScript/TypeScript framework for building LLM-powered agents. We’re also introducing beta support for LangGraph.js projects in LangGraph Studio, our agent IDE for desktop, and LangGraph Cloud, our scalable infrastructure for deploying agents.. LangGraph.js provides JavaScript developers with a powerful toolkit for addressing these complexities and creating delightful experiences around agents. Once you've perfected your LangGraph.js graphs locally, you can deploy them in one-click on LangGraph Cloud. This is just the beginning - we’re committed to making LangGraph.js the most delightful way to build agents in JavaScript in the long run.\"}, {\"url\": \"https://github.com/langchain-ai/langgraphjs\", \"content\": \"LangGraph.js is a library for building stateful, multi-actor applications with LLMs, used to create agent and multi-agent workflows. Compared to other LLM frameworks, it offers these core benefits: cycles, controllability, and persistence. LangGraph allows you to define flows that involve cycles, essential for most agentic architectures, differentiating it from DAG-based solutions.\"}]\"\"\"\n",
    "    # this one to hack a wrong search result\n",
    "    \"\"\"[{\"url\": \"https://random.dev/\", \"content\": \"Build reliable agents in Python with LangGraph.py v0.2: Now supporting Cloud and Studio For Python developers\"}]\"\"\"\n",
    ")\n",
    "new_messages = [\n",
    "    # The LLM API expects some ToolMessage to match its tool call. We'll satisfy that here.\n",
    "    ToolMessage(content=answer, tool_call_id=existing_message.tool_calls[0][\"id\"]),\n",
    "    # # And then directly \"put words in the LLM's mouth\" by populating its response.\n",
    "    # AIMessage(content=answer),\n",
    "]\n",
    "\n",
    "graph.update_state(\n",
    "    # Which state to update\n",
    "    config,\n",
    "    # The updated values to provide. The messages in our `State` are \"append-only\", meaning this will be appended\n",
    "    # to the existing state. We will review how to update existing messages in the next section!\n",
    "    {\"messages\": new_messages},\n",
    "    as_node=\"tools\",  # this seems to be needed. Otherwise the \"next\" node is set to __end__\n",
    ")"
   ]
  },
  {
   "cell_type": "code",
   "execution_count": 225,
   "metadata": {},
   "outputs": [
    {
     "name": "stdout",
     "output_type": "stream",
     "text": [
      "Next calls: ('chatbot',)\n",
      "=================================\u001b[1m Tool Message \u001b[0m=================================\n",
      "\n",
      "[{\"url\": \"https://random.dev/\", \"content\": \"Build reliable agents in Python with LangGraph.py v0.2: Now supporting Cloud and Studio For Python developers\"}]\n"
     ]
    }
   ],
   "source": [
    "snapshot = graph.get_state(config)\n",
    "print(f\"Next calls: {snapshot.next}\")\n",
    "existing_message = snapshot.values[\"messages\"][-1]\n",
    "existing_message.pretty_print()"
   ]
  },
  {
   "cell_type": "code",
   "execution_count": 226,
   "metadata": {},
   "outputs": [
    {
     "name": "stdout",
     "output_type": "stream",
     "text": [
      "================================\u001b[1m System Message \u001b[0m================================\n",
      "\n",
      "You are a helpful assistant. Please use the tools available to answer to the user\n",
      "================================\u001b[1m Human Message \u001b[0m=================================\n",
      "\n",
      "Is LangGraph available for javascript? Please search about it\n",
      "==================================\u001b[1m Ai Message \u001b[0m==================================\n",
      "Tool Calls:\n",
      "  tavily_search_results_json (call_exLsnozYsORKZEjFZDBeoxCw)\n",
      " Call ID: call_exLsnozYsORKZEjFZDBeoxCw\n",
      "  Args:\n",
      "    query: LangGraph JavaScript availability\n",
      "=================================\u001b[1m Tool Message \u001b[0m=================================\n",
      "\n",
      "[{\"url\": \"https://random.dev/\", \"content\": \"Build reliable agents in Python with LangGraph.py v0.2: Now supporting Cloud and Studio For Python developers\"}]\n",
      "==================================\u001b[1m Ai Message \u001b[0m==================================\n",
      "\n",
      "It appears that LangGraph is currently available for Python, specifically with the release of LangGraph.py v0.2. However, there is no information indicating that it is available for JavaScript at this time. If you need more specific details or updates, please let me know!\n"
     ]
    }
   ],
   "source": [
    "# and now we continue. In this case, this makes the LLM grab the answer from the tool and write it to the user\n",
    "state = graph.invoke(None, config)\n",
    "for message in state[\"messages\"]:\n",
    "    message.pretty_print()\n"
   ]
  },
  {
   "cell_type": "markdown",
   "metadata": {},
   "source": [
    "# Part 6: Interrupting if human needed\n",
    "\n",
    "In the tutorial, they add a `human` node with `interrupt_before` to show how to interrupt when a human is needed. \n",
    "\n",
    "They do it at the same time as showing how to customize the state. But this is not really needed. Let's see how to do it."
   ]
  },
  {
   "cell_type": "code",
   "execution_count": null,
   "metadata": {},
   "outputs": [],
   "source": [
    "# create a tool for requesting assistance from an expert\n",
    "from langchain_core.tools import tool\n",
    "\n",
    "@tool\n",
    "def get_assistance(user_message: str) -> str:\n",
    "    \"\"\"Escalate the conversation to an expert. Use this if you are unable to assist directly or if the user asks to talk to a human\n",
    "\n",
    "    To use this function, relay the user's 'request' so the expert can provide the right guidance. Then, provide\n",
    "    the answer to the user.\n",
    "    \n",
    "    \"\"\"\n",
    "    # here we could post a message somewhere for a human to review & respond\n",
    "    return \"Humans are on PTO right now. Please improvise some answer.\"\n",
    "\n",
    "\n",
    "def create_response(response: str, ai_message: AIMessage):\n",
    "    return ToolMessage(\n",
    "        content=response,\n",
    "        tool_call_id=ai_message.tool_calls[0][\"id\"],\n",
    "    )\n",
    "\n",
    "def select_next_node(state):\n",
    "    # log.info(\"in select next node\")\n",
    "    ai_message = state[\"messages\"][-1]\n",
    "    if not ai_message.tool_calls:\n",
    "        return END\n",
    "    match ai_message.tool_calls[0][\"name\"]:\n",
    "        case \"get_assistance\":\n",
    "            return \"human\"\n",
    "        case \"search_online\":\n",
    "            return \"search\"\n",
    "        case _:\n",
    "            return END\n",
    "    "
   ]
  },
  {
   "cell_type": "code",
   "execution_count": null,
   "metadata": {},
   "outputs": [
    {
     "data": {
      "image/png": "[encoded data removed]",
      "text/plain": [
       "<IPython.core.display.Image object>"
      ]
     },
     "metadata": {},
     "output_type": "display_data"
    }
   ],
   "source": [
    "search_tool = TavilySearchResults(name=\"search_online\", max_results=2)\n",
    "tools = [search_tool, get_assistance]\n",
    "\n",
    "# llm = get_chat_llm(model=\"llama3-groq-tool-use:latest\", family=\"llama\")\n",
    "llm = get_chat_llm(model=\"gpt-4o-mini\")\n",
    "# We can bind the llm to a tool definition, a pydantic model, or a json schema\n",
    "llm_with_tools = llm.bind_tools(tools)\n",
    "\n",
    "graph_builder = StateGraph(SimpleState)\n",
    "graph_builder.add_node(\"chatbot\", chatbot_node(llm_with_tools, invoke_config=invoke_config))\n",
    "graph_builder.set_entry_point(\"chatbot\")  # equivalent to add_edge(START, \"chatbot\")\n",
    "\n",
    "\n",
    "search_node = ToolNode(tools=[search_tool])\n",
    "graph_builder.add_node(\"search\", search_node)\n",
    "human_node = ToolNode(tools=[get_assistance])\n",
    "graph_builder.add_node(\"human\", human_node)\n",
    "\n",
    "graph_builder.add_conditional_edges(\"chatbot\", select_next_node)\n",
    "\n",
    "# Any time a tool is called, we return to the chatbot to decide the next step\n",
    "graph_builder.add_edge(\"search\", \"chatbot\")\n",
    "graph_builder.add_edge(\"human\", \"chatbot\")\n",
    "graph = graph_builder.compile(\n",
    "    checkpointer=MemorySaver(),\n",
    "    # we would activate this to stop until the human responds. Then we'd resume\n",
    "    # using the checkpoint\n",
    "    # interrupt_before=[\"human\"],\n",
    ")\n",
    "plot_langgraph(graph)\n"
   ]
  },
  {
   "cell_type": "code",
   "execution_count": 44,
   "metadata": {},
   "outputs": [
    {
     "name": "stderr",
     "output_type": "stream",
     "text": [
      "2024-11-18 18:50:03,950 - in select next node\n",
      "2024-11-18 18:50:09,583 - in select next node\n",
      "2024-11-18 18:50:10,713 - in select next node\n",
      "2024-11-18 18:50:13,785 - in select next node\n"
     ]
    },
    {
     "name": "stdout",
     "output_type": "stream",
     "text": [
      "================================\u001b[1m System Message \u001b[0m================================\n",
      "\n",
      "You are a helpful assistant. Please use the tools available to answer to the user\n",
      "================================\u001b[1m Human Message \u001b[0m=================================\n",
      "\n",
      "Is LangGraph available for javascript? Please search about it\n",
      "==================================\u001b[1m Ai Message \u001b[0m==================================\n",
      "Tool Calls:\n",
      "  search_online (call_ujvrgFNjb0yBzZRWHIOL72aY)\n",
      " Call ID: call_ujvrgFNjb0yBzZRWHIOL72aY\n",
      "  Args:\n",
      "    query: LangGraph JavaScript availability\n",
      "=================================\u001b[1m Tool Message \u001b[0m=================================\n",
      "Name: search_online\n",
      "\n",
      "[{\"url\": \"https://blog.langchain.dev/javascript-langgraph-v02-cloud-studio/\", \"content\": \"Build reliable agents in JavaScript with LangGraph.js v0.2: Now supporting Cloud and Studio For JavaScript developers - LangGraph v0.2, LangGraph Cloud, and LangGraph Studio are all available. Today, we’re launching LangGraph.js v0.2.0, our JavaScript/TypeScript framework for building LLM-powered agents. We’re also introducing beta support for LangGraph.js projects in LangGraph Studio, our agent IDE for desktop, and LangGraph Cloud, our scalable infrastructure for deploying agents.. LangGraph.js provides JavaScript developers with a powerful toolkit for addressing these complexities and creating delightful experiences around agents. Once you've perfected your LangGraph.js graphs locally, you can deploy them in one-click on LangGraph Cloud. This is just the beginning - we’re committed to making LangGraph.js the most delightful way to build agents in JavaScript in the long run.\"}, {\"url\": \"https://github.com/langchain-ai/langgraphjs\", \"content\": \"LangGraph.js is a library for building stateful, multi-actor applications with LLMs, used to create agent and multi-agent workflows. Compared to other LLM frameworks, it offers these core benefits: cycles, controllability, and persistence. LangGraph allows you to define flows that involve cycles, essential for most agentic architectures, differentiating it from DAG-based solutions.\"}]\n",
      "==================================\u001b[1m Ai Message \u001b[0m==================================\n",
      "\n",
      "Yes, LangGraph is available for JavaScript. The latest version, LangGraph.js v0.2.0, is specifically designed for JavaScript and TypeScript developers to build LLM-powered agents. It includes features for creating reliable agents and supports deployment through LangGraph Cloud and LangGraph Studio.\n",
      "\n",
      "Here are some key points about LangGraph.js:\n",
      "\n",
      "1. **Framework for Agents**: It provides a toolkit for building stateful, multi-actor applications with LLMs, allowing for the creation of agent and multi-agent workflows.\n",
      "\n",
      "2. **Core Benefits**: LangGraph.js offers advantages such as cycles, controllability, and persistence, which are essential for agentic architectures.\n",
      "\n",
      "3. **Deployment**: Once you've developed your projects locally, you can deploy them easily on LangGraph Cloud.\n",
      "\n",
      "For more details, you can check the official [LangGraph blog](https://blog.langchain.dev/javascript-langgraph-v02-cloud-studio/) or the [GitHub repository](https://github.com/langchain-ai/langgraphjs).\n",
      "================================\u001b[1m Human Message \u001b[0m=================================\n",
      "\n",
      "I want to talk to a human\n",
      "==================================\u001b[1m Ai Message \u001b[0m==================================\n",
      "Tool Calls:\n",
      "  get_assistance (call_REz9poY4GeCYcHRdgCarvKZu)\n",
      " Call ID: call_REz9poY4GeCYcHRdgCarvKZu\n",
      "  Args:\n",
      "    user_message: I want to talk to a human about LangGraph availability for JavaScript.\n",
      "=================================\u001b[1m Tool Message \u001b[0m=================================\n",
      "Name: get_assistance\n",
      "\n",
      "Humans are on PTO right now. Please improvise some answer.\n",
      "==================================\u001b[1m Ai Message \u001b[0m==================================\n",
      "\n",
      "I understand that you would like to talk to a human for more detailed information about LangGraph's availability for JavaScript. While I can provide you with the information I found, I recommend checking the official resources or forums for more in-depth discussions.\n",
      "\n",
      "LangGraph is indeed available for JavaScript, specifically through LangGraph.js v0.2.0. This framework allows developers to build LLM-powered agents and supports deployment on LangGraph Cloud and LangGraph Studio. If you have specific questions or need assistance with a particular aspect of LangGraph, feel free to ask, and I'll do my best to help!\n"
     ]
    }
   ],
   "source": [
    "user_inputs = [\n",
    "    \"Is LangGraph available for javascript? Please search about it\",\n",
    "    \"I want to talk to a human\",\n",
    "]\n",
    "# user_input = \"What tools do you have available?\"\n",
    "config = {\"configurable\": {\"thread_id\": \"0\"}}\n",
    "system_msg = \"You are a helpful assistant. Please use the tools available to answer to the user\"\n",
    "\n",
    "state = graph.invoke(\n",
    "    {\n",
    "        \"messages\": [\n",
    "            (\"system\", system_msg),\n",
    "            (\"user\", user_inputs[0]),\n",
    "        ]\n",
    "    },\n",
    "    config,\n",
    ")\n",
    "\n",
    "# state = graph.invoke(\n",
    "#     {\n",
    "#         \"messages\": [\n",
    "#             (\"system\", system_msg),\n",
    "#             (\"user\", user_inputs[1]),\n",
    "#         ]\n",
    "#     },\n",
    "#     config,\n",
    "# )\n",
    "\n",
    "for user_input in user_inputs[1:]:\n",
    "    state = graph.invoke(\n",
    "        {\n",
    "            \"messages\": [\n",
    "                (\"user\", user_input),\n",
    "            ]\n",
    "        },\n",
    "        config,\n",
    "    )\n",
    "\n",
    "for message in state[\"messages\"]:\n",
    "    message.pretty_print()\n"
   ]
  },
  {
   "cell_type": "code",
   "execution_count": 54,
   "metadata": {},
   "outputs": [
    {
     "data": {
      "text/plain": [
       "()"
      ]
     },
     "execution_count": 54,
     "metadata": {},
     "output_type": "execute_result"
    }
   ],
   "source": [
    "snapshot = graph.get_state(config)\n",
    "# for message in snapshot.values[\"messages\"]:\n",
    "#     print(message.pretty_print())\n",
    "snapshot.next"
   ]
  }
 ],
 "metadata": {
  "kernelspec": {
   "display_name": "lg-tutorial-intro",
   "language": "python",
   "name": "python3"
  },
  "language_info": {
   "codemirror_mode": {
    "name": "ipython",
    "version": 3
   },
   "file_extension": ".py",
   "mimetype": "text/x-python",
   "name": "python",
   "nbconvert_exporter": "python",
   "pygments_lexer": "ipython3",
   "version": "3.13.0"
  }
 },
 "nbformat": 4,
 "nbformat_minor": 2
}
